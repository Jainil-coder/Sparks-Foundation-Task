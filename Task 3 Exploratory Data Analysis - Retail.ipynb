{
 "cells": [
  {
   "cell_type": "markdown",
   "metadata": {},
   "source": [
    "# Task 3 : Performing EDA On Sample Superstore Dataset\n",
    "# Submitted by : Jainil Shah\n",
    "# You are business manager.As a business manager,you want to find out the weak areas where you can work to make more profit.\n",
    "## 1. Importing Libraries"
   ]
  },
  {
   "cell_type": "code",
   "execution_count": null,
   "metadata": {},
   "outputs": [],
   "source": [
    "# used for working with arrays\n",
    "import numpy as np \n",
    "# it offers data structures and operations for manipulating numerical tables and time series\n",
    "import pandas as pd \n",
    "#  data visualization and graphical plotting\n",
    "import matplotlib.pyplot as plt\n",
    "# provides a high-level interface for drawing attractive and informative statistical graphics\n",
    "import seaborn as sns\n",
    "# high-level Python visualization library : wrapper for Plotly.py that exposes a simple syntax for complex charts."
   ]
  },
  {
   "cell_type": "markdown",
   "metadata": {},
   "source": [
    "# 2. Importing the dataset"
   ]
  },
  {
   "cell_type": "code",
   "execution_count": null,
   "metadata": {},
   "outputs": [],
   "source": [
    "df = pd.read_csv('D://Machine Learning//Task 3 - Dataset.csv')\n",
    "df.head()"
   ]
  },
  {
   "cell_type": "markdown",
   "metadata": {},
   "source": [
    "# 3.Shape of the dataset"
   ]
  },
  {
   "cell_type": "code",
   "execution_count": null,
   "metadata": {},
   "outputs": [],
   "source": [
    "# print rows and columns number count\n",
    "print('Number of rows: ',df.shape[0])\n",
    "print('Number of columns: ',df.shape[1])"
   ]
  },
  {
   "cell_type": "markdown",
   "metadata": {},
   "source": [
    "# 4.column names of table"
   ]
  },
  {
   "cell_type": "code",
   "execution_count": null,
   "metadata": {},
   "outputs": [],
   "source": [
    "# gives names of columns\n",
    "df.columns"
   ]
  },
  {
   "cell_type": "markdown",
   "metadata": {},
   "source": [
    "# 5. Check the attribute types"
   ]
  },
  {
   "cell_type": "code",
   "execution_count": null,
   "metadata": {},
   "outputs": [],
   "source": [
    "#check data type of columns/attributes\n",
    "df.dtypes"
   ]
  },
  {
   "cell_type": "markdown",
   "metadata": {},
   "source": [
    "# 6.Check the missing values"
   ]
  },
  {
   "cell_type": "code",
   "execution_count": null,
   "metadata": {},
   "outputs": [],
   "source": [
    "df.isnull().sum()"
   ]
  },
  {
   "cell_type": "markdown",
   "metadata": {},
   "source": [
    "# 7.Check the dataset for duplicate"
   ]
  },
  {
   "cell_type": "code",
   "execution_count": null,
   "metadata": {},
   "outputs": [],
   "source": [
    "# gives count of duplicates\n",
    "df.duplicated().sum()"
   ]
  },
  {
   "cell_type": "markdown",
   "metadata": {},
   "source": [
    "# 8. drop duplicates"
   ]
  },
  {
   "cell_type": "code",
   "execution_count": null,
   "metadata": {},
   "outputs": [],
   "source": [
    "# drops duplicates\n",
    "df.drop_duplicates()"
   ]
  },
  {
   "cell_type": "markdown",
   "metadata": {},
   "source": [
    "# 9.Checking the unique values in columns"
   ]
  },
  {
   "cell_type": "code",
   "execution_count": null,
   "metadata": {},
   "outputs": [],
   "source": [
    "# return number of unique elements in the object\n",
    "df.nunique()"
   ]
  },
  {
   "cell_type": "markdown",
   "metadata": {},
   "source": [
    "# 10. Correlation"
   ]
  },
  {
   "cell_type": "code",
   "execution_count": null,
   "metadata": {},
   "outputs": [],
   "source": [
    "# find the pairwise correlation of all columns in the dataframe\n",
    "df.corr()"
   ]
  },
  {
   "cell_type": "code",
   "execution_count": null,
   "metadata": {},
   "outputs": [],
   "source": [
    "# A correlation heatmap uses colored cells, \n",
    "# typically in a monochromatic scale, \n",
    "# to show a 2D correlation matrix (table) between two discrete dimensions\n",
    "fig,axes = plt.subplots(1,1,figsize=(9,6))\n",
    "sns.heatmap(df.corr(), annot= True)\n",
    "plt.show()"
   ]
  },
  {
   "cell_type": "markdown",
   "metadata": {},
   "source": [
    "# 11.Covariance"
   ]
  },
  {
   "cell_type": "code",
   "execution_count": null,
   "metadata": {},
   "outputs": [],
   "source": [
    "# property of a function of retaining its form when the variables are linearly transformed.: Covariance\n",
    "# compute pairwise covariance of columns\n",
    "#  returned data frame is the covariance matrix of the columns of the DataFrame\n",
    "df.cov()"
   ]
  },
  {
   "cell_type": "code",
   "execution_count": null,
   "metadata": {},
   "outputs": [],
   "source": [
    "fig,axes = plt.subplots(1,1,figsize=(9,6))\n",
    "sns.heatmap(df.cov(), annot= True)\n",
    "plt.show()"
   ]
  },
  {
   "cell_type": "markdown",
   "metadata": {},
   "source": [
    "# 12.Find the Series containing counts of unique values"
   ]
  },
  {
   "cell_type": "code",
   "execution_count": null,
   "metadata": {},
   "outputs": [],
   "source": [
    "# flatten: return a copy of the array collapsed into one dimension\n",
    "pd.value_counts(df.values.flatten())"
   ]
  },
  {
   "cell_type": "markdown",
   "metadata": {},
   "source": [
    "# 13.Deleting the Variable"
   ]
  },
  {
   "cell_type": "code",
   "execution_count": null,
   "metadata": {},
   "outputs": [],
   "source": [
    "col=['Postal Code']\n",
    "df1=df.drop(columns=col,axis=1)"
   ]
  },
  {
   "cell_type": "markdown",
   "metadata": {},
   "source": [
    "# 14.Visualizing the dataset"
   ]
  },
  {
   "cell_type": "code",
   "execution_count": null,
   "metadata": {},
   "outputs": [],
   "source": [
    "# presents categorical data with rectangular bars with heights or lengths proportional to the values that they represent.\n",
    "# The bars can be plotted vertically or horizontally.\n",
    "plt.figure(figsize=(16,8))\n",
    "plt.bar('Sub-Category','Category', data=df)\n",
    "plt.show()"
   ]
  },
  {
   "cell_type": "code",
   "execution_count": null,
   "metadata": {},
   "outputs": [],
   "source": [
    "print(df1['State'].value_counts())"
   ]
  },
  {
   "cell_type": "code",
   "execution_count": null,
   "metadata": {},
   "outputs": [],
   "source": [
    "# Show the counts of observations in each categorical bin using bars\n",
    "plt.figure(figsize=(15,8))\n",
    "sns.countplot(x=df1['State'])\n",
    "plt.xticks(rotation=80)\n",
    "plt.show()\n"
   ]
  },
  {
   "cell_type": "code",
   "execution_count": null,
   "metadata": {},
   "outputs": [],
   "source": [
    "print(df['Sub-Category'].value_counts())"
   ]
  },
  {
   "cell_type": "code",
   "execution_count": null,
   "metadata": {},
   "outputs": [],
   "source": [
    "plt.figure(figsize=(12,6))\n",
    "sns.countplot(x=df['Sub-Category'])\n",
    "plt.xticks(rotation=80)\n",
    "plt.show()"
   ]
  },
  {
   "cell_type": "code",
   "execution_count": null,
   "metadata": {},
   "outputs": [],
   "source": [
    "plt.figure(figsize=(40,30))\n",
    "sns.barplot(x=df['Sub-Category'], y=df['Profit'],ci=False)"
   ]
  },
  {
   "cell_type": "code",
   "execution_count": null,
   "metadata": {},
   "outputs": [],
   "source": [
    "sns.countplot(x=df['Segment'])"
   ]
  },
  {
   "cell_type": "code",
   "execution_count": null,
   "metadata": {},
   "outputs": [],
   "source": [
    "sns.countplot(x=df['Region'])"
   ]
  },
  {
   "cell_type": "code",
   "execution_count": null,
   "metadata": {},
   "outputs": [],
   "source": [
    "# display numerical values on one axis, and categorical values on the other.\n",
    "plt.figure(figsize = (10,4))\n",
    "sns.lineplot('Discount', 'Profit', data = df, color = 'r', label= 'Discount',ci=False)\n",
    "plt.legend()"
   ]
  },
  {
   "cell_type": "code",
   "execution_count": null,
   "metadata": {},
   "outputs": [],
   "source": [
    "# bins should be the number of bars you want to show in your histogram plot.\n",
    "df1.hist(bins=50 ,figsize=(20,15))\n",
    "plt.show()"
   ]
  },
  {
   "cell_type": "code",
   "execution_count": null,
   "metadata": {},
   "outputs": [],
   "source": [
    "# pairplot plot a pairwise relationships in a dataset\n",
    "# creates a grid of Axes such that each variable in data will by shared in the y-axis across a single row\n",
    "# and in the x-axis across a single column.\n",
    "figsize=(30,30)\n",
    "sns.pairplot(df1,hue='Sub-Category')"
   ]
  },
  {
   "cell_type": "markdown",
   "metadata": {},
   "source": [
    "# 16. Now, Grouping or sum the sales ,profit,discount,quantity according to every state of region and also according to sub-categories sales"
   ]
  },
  {
   "cell_type": "code",
   "execution_count": null,
   "metadata": {},
   "outputs": [],
   "source": [
    "grouped=pd.DataFrame(df.groupby(['Ship Mode','Segment','Category','Sub-Category','State','Region'])\n",
    "                     ['Quantity','Discount','Sales','Profit'].sum().reset_index())\n",
    "grouped"
   ]
  },
  {
   "cell_type": "markdown",
   "metadata": {},
   "source": [
    "# 17.sum,mean,min,max,count median,standard deviation,Variance of each states of Profit"
   ]
  },
  {
   "cell_type": "code",
   "execution_count": null,
   "metadata": {},
   "outputs": [],
   "source": [
    "# finding sum,mean,max,min,count,median,std deviation,variance of profit on each state\n",
    "df.groupby(\"State\").Profit.agg([\"sum\",\"mean\",\"min\",\"max\",\"count\",\"median\",\"std\",\"var\"])"
   ]
  },
  {
   "cell_type": "markdown",
   "metadata": {},
   "source": [
    "# 18.K means Clustering"
   ]
  },
  {
   "cell_type": "code",
   "execution_count": null,
   "metadata": {},
   "outputs": [],
   "source": [
    "# selected all rows but last 4 columns\n",
    "x = df.iloc[:, [9, 10, 11, 12]].values\n",
    "# unsupervised machine learning algorithms that forms clusters of data based on the similarity between data instances\n",
    "# number of clusters has to be defined beforehand\n",
    "# K in the K-means refers to the number of clusters.\n",
    "from sklearn.cluster import KMeans\n",
    "# within cluster sum of squares\n",
    "# For each value of K, we are calculating WCSS ( Within-Cluster Sum of Square )\n",
    "# WCSS is the sum of squared distance between each point and the centroid in a cluster\n",
    "#  When we plot the WCSS with the K value, the plot looks like an Elbow\n",
    "# number of clusters increases, the WCSS value will start to decrease\n",
    "wcss = []\n",
    "# To get the values used in the graph, we train multiple models using a different number of clusters \n",
    "# and storing the value of the intertia_ property (WCSS) every time.\n",
    "# k-means++ ensures that you get don’t fall into the random initialization trap.\n",
    "for i in range(1, 11):\n",
    "    kmeans = KMeans(n_clusters = i, init = 'k-means++',max_iter = 300, n_init = 10, random_state = 0).fit(x)\n",
    "    wcss.append(kmeans.inertia_)\n",
    "# types: whitegrid,darkgrid,dark,ticks,white\n",
    "sns.set_style(\"darkgrid\")\n",
    "# maps a dataset onto multiple axes arrayed in a grid of rows and columns that correspond to levels of variables in the dataset.\n",
    "sns.FacetGrid(df, hue =\"Sub-Category\",height = 6).map(plt.scatter,'Sales','Quantity')\n",
    "# centroids are shown using yellow\n",
    "plt.scatter(kmeans.cluster_centers_[:, 0], kmeans.cluster_centers_[:,1], s = 100, c = 'black', label = 'Centroids')\n",
    "plt.legend()"
   ]
  },
  {
   "cell_type": "code",
   "execution_count": null,
   "metadata": {},
   "outputs": [],
   "source": [
    "sns.pairplot(df1)"
   ]
  },
  {
   "cell_type": "code",
   "execution_count": null,
   "metadata": {},
   "outputs": [],
   "source": [
    "#  depicting groups of numerical data through their quartiles\n",
    "# used for detect the outlier in data set\n",
    "#A box plot consist of 5 things.\n",
    "\n",
    "# a)Minimum\n",
    "# b)First Quartile or 25%\n",
    "# c)Median (Second Quartile) or 50%\n",
    "# d)Third Quartile or 75%\n",
    "# e)Maximum\n",
    "fig, axes = plt.subplots(figsize = (10 , 10))\n",
    "sns.boxplot(df['Sales'])"
   ]
  },
  {
   "cell_type": "code",
   "execution_count": null,
   "metadata": {},
   "outputs": [],
   "source": [
    "fig, axes = plt.subplots(figsize = (10 , 10))\n",
    "\n",
    "sns.boxplot(df['Discount'])"
   ]
  },
  {
   "cell_type": "code",
   "execution_count": null,
   "metadata": {},
   "outputs": [],
   "source": [
    "fig, axes = plt.subplots(figsize = (10 , 10))\n",
    "\n",
    "sns.boxplot(df['Profit'])"
   ]
  },
  {
   "cell_type": "code",
   "execution_count": null,
   "metadata": {},
   "outputs": [],
   "source": [
    "# quantile determines how many values in a distribution are above or below a certain limit.\n",
    "Q1 = df.quantile(q = 0.25, axis = 0, numeric_only = True, interpolation = 'linear')\n",
    "Q3 = df.quantile(q = 0.75, axis = 0, numeric_only = True, interpolation = 'linear')\n",
    "IQR = Q3 - Q1\n",
    "\n",
    "print(IQR)"
   ]
  },
  {
   "cell_type": "markdown",
   "metadata": {},
   "source": [
    "# 19. Plotting scatterplot"
   ]
  },
  {
   "cell_type": "code",
   "execution_count": null,
   "metadata": {},
   "outputs": [],
   "source": [
    "# values of two variables are plotted along two axes, the pattern of the resulting points revealing any correlation present.\n",
    "fig, ax = plt.subplots(figsize = (10 , 6))\n",
    "ax.scatter(df[\"Sales\"] , df[\"Profit\"])\n",
    "ax.set_xlabel('Sales')\n",
    "ax.set_ylabel('Profit')\n",
    "plt.show()"
   ]
  },
  {
   "cell_type": "markdown",
   "metadata": {},
   "source": [
    "# 20. Distribution plot"
   ]
  },
  {
   "cell_type": "code",
   "execution_count": null,
   "metadata": {},
   "outputs": [],
   "source": [
    "# used for examining univariate and bivariate distributions.\n",
    "print(df['Sales'].describe())\n",
    "plt.figure(figsize = (9 , 8))\n",
    "sns.distplot(df['Sales'], color = 'b', bins = 100, hist_kws = {'alpha': 0.4});"
   ]
  }
 ],
 "metadata": {
  "kernelspec": {
   "display_name": "Python 3",
   "language": "python",
   "name": "python3"
  },
  "language_info": {
   "codemirror_mode": {
    "name": "ipython",
    "version": 3
   },
   "file_extension": ".py",
   "mimetype": "text/x-python",
   "name": "python",
   "nbconvert_exporter": "python",
   "pygments_lexer": "ipython3",
   "version": "3.8.3"
  }
 },
 "nbformat": 4,
 "nbformat_minor": 4
}
